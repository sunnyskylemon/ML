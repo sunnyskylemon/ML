{
  "cells": [
    {
      "cell_type": "markdown",
      "metadata": {
        "id": "ua-hci7EA68n"
      },
      "source": [
        "## Лабораторная работа 2 \"Полносвязные нейронные сети\""
      ]
    },
    {
      "cell_type": "markdown",
      "metadata": {
        "id": "Hs0_7xDcA68p"
      },
      "source": [
        "ФИО: Иванова Елена Владимировна"
      ]
    },
    {
      "cell_type": "markdown",
      "metadata": {
        "id": "aDezYyEwA68q"
      },
      "source": [
        "В современных фреймворках, нейронные сети конструируются в виде разнообразных слоев. Каждый слой реализует два метода forward и backward. forward предназначен для расчета выхода слоя, backward для расчета градиента. В лабораторной лаботе вам необходимо рализовать оба метода для линейного, сигмоидального и Relu.\n",
        "После чего необходимо сконструировать нейронную сеть для решения задачи классификации."
      ]
    },
    {
      "cell_type": "markdown",
      "metadata": {
        "id": "FOcnRh-fA68r"
      },
      "source": [
        "Функция forward будет вычислять по $x$ значение $y$, backward — по $\\frac{\\partial L}{\\partial y}$ вычислять $\\frac{\\partial L}{\\partial x}$ и обновлять внутри себя $\\frac{\\partial L}{\\partial w}$.\n",
        "\n",
        "Важным требованием к реализации является векторизация всех слоев: все операции должны быть сведены к матричным, не должно быть циклов. Это значительно уменьшает временные затраты."
      ]
    },
    {
      "cell_type": "code",
      "execution_count": 24,
      "metadata": {
        "id": "kpFL1MBRA68s"
      },
      "outputs": [],
      "source": [
        "import torch\n",
        "import torch.nn as nn\n",
        "import torch.optim as optim\n",
        "from typing import Tuple\n",
        "import matplotlib.pyplot as plt\n",
        "from tqdm import tqdm\n",
        "%matplotlib inline"
      ]
    },
    {
      "cell_type": "markdown",
      "metadata": {
        "id": "Fs5d527zA68t"
      },
      "source": [
        "### Часть 1: Линейный слой\n"
      ]
    },
    {
      "cell_type": "markdown",
      "metadata": {
        "id": "gvGaWU5TA68t"
      },
      "source": [
        "Приведем пример вычисления градиентов для линейного слоя: $y = Wx$, $x \\in \\mathbb{R}^{K \\times n}$, $y \\in \\mathbb{R}^{K \\times n}$, $W \\in \\mathbb{R}^{n \\times m}$, где $K$ — число объектов.\n",
        "\n",
        "Рассмотрим $L$ как функцию от выходов нейронной сети: $L = L(y_{11}, y_{12}, \\dots)$\n",
        "\n",
        "$$y_{kt} = (Wx)_{kt} = \\sum_{z=1}^{n} x_{kz}W_{zt}$$\n",
        "\n",
        "$$\\frac{\\partial L}{\\partial x_{ij}} = \\sum_{kt} \\frac{\\partial L}{\\partial y_{kt}}\\frac{\\partial y_{kt}}{\\partial x_{ij}} = \\sum_{kt} \\frac{\\partial L}{\\partial y_{kt}}\\frac{\\partial \\sum_z x_{kz}w_{zt}}{\\partial x_{ij}}= \\sum_{t} \\frac{\\partial L}{\\partial y_{it}}\\frac{\\partial w_{jt}}{\\partial x_{ij}}$$\n",
        "\n",
        "$$\\frac{\\partial{L}}{\\partial x} = \\frac{\\partial{L}}{\\partial y}W^T$$"
      ]
    },
    {
      "cell_type": "code",
      "source": [
        "class Parameters:\n",
        "    def __init__(self, shape: Tuple[int, int]):\n",
        "        \"\"\"\n",
        "        Инициализирует параметры слоя:\n",
        "        - `weights`: случайные веса, инициализированные небольшими значениями.\n",
        "        - `grad`: массив нулей той же формы для хранения градиентов.\n",
        "        \"\"\"\n",
        "        self.weights = np.random.randn(*shape) * 0.1\n",
        "        self.grad = np.zeros_like(self.weights)"
      ],
      "metadata": {
        "id": "_XjH9KZHKUjk"
      },
      "execution_count": 25,
      "outputs": []
    },
    {
      "cell_type": "code",
      "source": [
        "class Linear:\n",
        "    def __init__(self, input_size: int, output_size: int):\n",
        "        \"\"\"\n",
        "        Инициализация линейного слоя.\n",
        "        \"\"\"\n",
        "        self.W = Parameters((output_size, input_size))  # Матрица весов W\n",
        "        self.b = Parameters((output_size, 1))  # Смещения b\n",
        "\n",
        "    def forward(self, X: np.ndarray) -> np.ndarray:\n",
        "        \"\"\"\n",
        "        Прямой проход (forward propagation):\n",
        "        - X: входной тензор размером (N, input_size).\n",
        "        - Возвращает: выходной тензор размером (N, output_size).\n",
        "        \"\"\"\n",
        "        self.X = X  # Сохраняем вход для использования в backward\n",
        "        return X @ self.W.weights.T + self.b.weights.T  # Вычисляем y = Wx + b\n",
        "\n",
        "    def backward(self, dLdy: np.ndarray) -> np.ndarray:\n",
        "        \"\"\"\n",
        "        Обратное распространение ошибки (backward propagation):\n",
        "        - dLdy: градиент потерь по y (размер (N, output_size)).\n",
        "        - Вычисляет и сохраняет градиенты dL/dW, dL/db.\n",
        "        - Возвращает градиент dL/dX для предыдущего слоя.\n",
        "        \"\"\"\n",
        "        N = dLdy.shape[0]  # Количество объектов\n",
        "        self.W.grad = (dLdy.T @ self.X) / N  # Градиент по W\n",
        "        self.b.grad = np.sum(dLdy, axis=0, keepdims=True).T / N  # Градиент по b\n",
        "        return dLdy @ self.W.weights  # Градиент по входу X"
      ],
      "metadata": {
        "id": "hT3aHEFKKXIj"
      },
      "execution_count": 26,
      "outputs": []
    },
    {
      "cell_type": "code",
      "execution_count": 27,
      "metadata": {
        "id": "CIEK1D8mA68t",
        "colab": {
          "base_uri": "https://localhost:8080/"
        },
        "outputId": "ffc54117-d5e4-4b1a-b2db-e40956fe3017"
      },
      "outputs": [
        {
          "output_type": "stream",
          "name": "stdout",
          "text": [
            "Output y:\n",
            " [[ 0.09708512  0.00338722]\n",
            " [ 0.00752138  0.04494277]\n",
            " [ 0.01441669 -0.14908639]\n",
            " [ 0.09461183  0.17893322]\n",
            " [ 0.23821753  0.3036717 ]]\n",
            "Gradient dL/dW:\n",
            " [[ 0.51845998 -0.22215165  0.12091001]\n",
            " [ 0.32376224  0.06265715  0.78233529]]\n",
            "Gradient dL/db:\n",
            " [[ 0.12449137]\n",
            " [-0.58224377]]\n",
            "Gradient dL/dX:\n",
            " [[-0.15368037  0.03244609 -0.0795333 ]\n",
            " [-0.16979008  0.02541724  0.03413334]\n",
            " [-0.07281761  0.0088696   0.0383967 ]\n",
            " [-0.10613055  0.01812225 -0.00480449]\n",
            " [ 0.08994961 -0.02529435  0.12028595]]\n"
          ]
        }
      ],
      "source": [
        "# Тестирование работы слоя\n",
        "if __name__ == \"__main__\":\n",
        "    np.random.seed(42)  # Фиксируем сид для воспроизводимости\n",
        "    layer = Linear(input_size=3, output_size=2)\n",
        "\n",
        "    X = np.random.randn(5, 3)  # 5 объектов, 3 признака\n",
        "    y = layer.forward(X)\n",
        "\n",
        "    dLdy = np.random.randn(5, 2)  # Градиенты потерь\n",
        "    dLdx = layer.backward(dLdy)\n",
        "\n",
        "    print(\"Output y:\\n\", y)\n",
        "    print(\"Gradient dL/dW:\\n\", layer.W.grad)\n",
        "    print(\"Gradient dL/db:\\n\", layer.b.grad)\n",
        "    print(\"Gradient dL/dX:\\n\", dLdx)"
      ]
    },
    {
      "cell_type": "code",
      "source": [
        "# Создаем датасет (10 объектов, 2 признака)\n",
        "X_train = torch.randn(10, 2)  # Входные данные (10 объектов, 2 признака)\n",
        "y_train = torch.randint(0, 3, (10,))  # Истинные классы (0, 1 или 2)\n",
        "\n",
        "# Определение нейросети с ReLU\n",
        "class NeuralNetwork(nn.Module):\n",
        "    def __init__(self, input_size, hidden_size, output_size):\n",
        "        super(NeuralNetwork, self).__init__()\n",
        "        self.fc1 = nn.Linear(input_size, hidden_size)  # Первый (скрытый) слой\n",
        "        self.relu = nn.ReLU()  # Функция активации ReLU\n",
        "        self.fc2 = nn.Linear(hidden_size, output_size)  # Выходной слой\n",
        "\n",
        "    def forward(self, x):\n",
        "        x = self.fc1(x)  # Линейное преобразование fully connected - слой\n",
        "        x = self.relu(x)  # Применяем ReLU\n",
        "        x = self.fc2(x)  # Второе линейное преобразование\n",
        "        return x  # Логиты (без softmax, т.к. CrossEntropyLoss сам его применяет) это тот х,который у\n",
        "\n",
        "# Гиперпараметры\n",
        "input_size = 2      # Количество входных признаков\n",
        "hidden_size = 4     # Количество нейронов в скрытом слое\n",
        "output_size = 3     # Количество классов\n",
        "learning_rate = 0.1 # Скорость обучения\n",
        "num_epochs = 100    # Количество эпох\n",
        "batch_size = 5      # Размер батча\n",
        "\n",
        "# Создаем модель\n",
        "model = NeuralNetwork(input_size, hidden_size, output_size) # количество иксов, скрытый параметр h, игреки\n",
        "\n",
        "# Функция потерь и оптимизатор\n",
        "criterion = nn.CrossEntropyLoss() # используется для многоклассовой классификации\n",
        "optimizer = optim.SGD(model.parameters(), lr=learning_rate) # стохастический градиентный спуск показывает оптимизатору, какие параметры он может вариировать\n",
        "\n",
        "# Обучение с использованием батчей\n",
        "for epoch in range(num_epochs):\n",
        "    for i in range(0, len(X_train), batch_size):\n",
        "        X_batch = X_train[i:i+batch_size]  # Выбираем батч данных\n",
        "        y_batch = y_train[i:i+batch_size]  # Выбираем соответствующие метки\n",
        "\n",
        "        optimizer.zero_grad()  # Обнуляем градиенты\n",
        "\n",
        "        y_pred = model(X_batch)  # Прямой проход\n",
        "        loss = criterion(y_pred, y_batch)  # Вычисляем потерю\n",
        "\n",
        "        loss.backward()  # Обратное распространение ошибки\n",
        "        optimizer.step()  # Обновляем параметры модели\n",
        "\n",
        "    # Выводим потери каждые 10 эпох\n",
        "    if epoch % 10 == 0 or epoch == num_epochs - 1:\n",
        "        print(f\"Эпоха {epoch}, Потеря: {loss.item():.5f}\")\n",
        "\n",
        "# Выводим итоговые веса\n",
        "print(\"\\nИтоговые веса скрытого слоя:\\n\", model.fc1.weight)\n",
        "print(\"\\nИтоговые веса выходного слоя:\\n\", model.fc2.weight)"
      ],
      "metadata": {
        "colab": {
          "base_uri": "https://localhost:8080/"
        },
        "id": "1NREuAj9NAsN",
        "outputId": "873df2b4-496a-41be-fd0a-a662ffd7b0d7"
      },
      "execution_count": 28,
      "outputs": [
        {
          "output_type": "stream",
          "name": "stdout",
          "text": [
            "Эпоха 0, Потеря: 1.21754\n",
            "Эпоха 10, Потеря: 0.98150\n",
            "Эпоха 20, Потеря: 0.88760\n",
            "Эпоха 30, Потеря: 0.82656\n",
            "Эпоха 40, Потеря: 0.77290\n",
            "Эпоха 50, Потеря: 0.72372\n",
            "Эпоха 60, Потеря: 0.68671\n",
            "Эпоха 70, Потеря: 0.66315\n",
            "Эпоха 80, Потеря: 0.64940\n",
            "Эпоха 90, Потеря: 0.61497\n",
            "Эпоха 99, Потеря: 0.53532\n",
            "\n",
            "Итоговые веса скрытого слоя:\n",
            " Parameter containing:\n",
            "tensor([[ 1.4929, -0.3374],\n",
            "        [ 0.5907, -0.5391],\n",
            "        [-0.0151,  0.3932],\n",
            "        [ 0.9546, -1.2171]], requires_grad=True)\n",
            "\n",
            "Итоговые веса выходного слоя:\n",
            " Parameter containing:\n",
            "tensor([[ 0.6968,  0.0715,  0.4616, -0.2880],\n",
            "        [ 0.8714,  0.1607, -0.2697,  0.9968],\n",
            "        [-1.0239, -0.5231, -0.3855, -0.6204]], requires_grad=True)\n"
          ]
        }
      ]
    },
    {
      "cell_type": "markdown",
      "source": [
        "### Часть 2, Relu (Rectified Linear Unit - активация нейронов в нейросети)"
      ],
      "metadata": {
        "id": "-ohoXSZLHFpt"
      }
    },
    {
      "cell_type": "code",
      "source": [
        "# Применяем ReLU отдельно\n",
        "with torch.no_grad():  # Отключаем вычисление градиентов\n",
        "    X_test = torch.randn(5, 2)  # Генерируем новые тестовые данные\n",
        "    hidden_output = model.fc1(X_test)  # Выход скрытого слоя (до ReLU)\n",
        "    relu_output = torch.relu(hidden_output)  # Применяем ReLU вручную\n",
        "\n",
        "# Выводим результаты\n",
        "print(\"\\nВыход скрытого слоя (до ReLU):\\n\", hidden_output)\n",
        "print(\"\\nВыход скрытого слоя (после ReLU):\\n\", relu_output)"
      ],
      "metadata": {
        "colab": {
          "base_uri": "https://localhost:8080/"
        },
        "id": "p08PeTAkRStN",
        "outputId": "9cd787a9-b593-4987-8ddd-7604c25d5883"
      },
      "execution_count": 29,
      "outputs": [
        {
          "output_type": "stream",
          "name": "stdout",
          "text": [
            "\n",
            "Выход скрытого слоя (до ReLU):\n",
            " tensor([[-0.8062, -2.2979,  0.5624, -4.2132],\n",
            "        [ 1.0239, -0.1742, -0.8008,  0.4118],\n",
            "        [-0.0272, -0.3191, -1.0506,  0.4088],\n",
            "        [ 0.0728, -1.0652, -0.2967, -1.4667],\n",
            "        [ 3.3730,  0.8622, -0.9273,  2.1779]])\n",
            "\n",
            "Выход скрытого слоя (после ReLU):\n",
            " tensor([[0.0000, 0.0000, 0.5624, 0.0000],\n",
            "        [1.0239, 0.0000, 0.0000, 0.4118],\n",
            "        [0.0000, 0.0000, 0.0000, 0.4088],\n",
            "        [0.0728, 0.0000, 0.0000, 0.0000],\n",
            "        [3.3730, 0.8622, 0.0000, 2.1779]])\n"
          ]
        }
      ]
    },
    {
      "cell_type": "code",
      "source": [
        "class ReLU:\n",
        "    def __init__(self):\n",
        "        self.X = None  # Будем сохранять X для backward\n",
        "\n",
        "    def forward(self, X: np.ndarray) -> np.ndarray:\n",
        "        \"\"\"\n",
        "        Прямой проход (forward) ReLU: заменяет отрицательные элементы на 0.\n",
        "        \"\"\"\n",
        "        self.X = X  # Сохраняем вход X для backward\n",
        "        return np.maximum(0, X)\n",
        "\n",
        "    def backward(self, dLdy: np.ndarray) -> np.ndarray:\n",
        "        \"\"\"\n",
        "        Обратное распространение ошибки (backward) через ReLU.\n",
        "        \"\"\"\n",
        "        dLdx = dLdy * (self.X > 0)  # Производная ReLU: 1 для X > 0, иначе 0\n",
        "        return dLdx"
      ],
      "metadata": {
        "id": "qxQS0140NPOP"
      },
      "execution_count": 30,
      "outputs": []
    },
    {
      "cell_type": "code",
      "source": [
        "# Создаем экземпляр ReLU\n",
        "relu = ReLU()\n",
        "\n",
        "# Входные данные\n",
        "X = np.array([[-1.0, 2.0, -3.0], [4.0, -5.0, 6.0]])\n",
        "\n",
        "# Прямой проход через ReLU\n",
        "Y = relu.forward(X)\n",
        "print(\"ReLU Forward:\\n\", Y)\n",
        "\n",
        "# Градиенты от следующего слоя (единичная матрица)\n",
        "dLdy = np.ones_like(X)\n",
        "\n",
        "# Обратное распространение ошибки через ReLU\n",
        "dLdx = relu.backward(dLdy)\n",
        "print(\"ReLU Backward:\\n\", dLdx)"
      ],
      "metadata": {
        "colab": {
          "base_uri": "https://localhost:8080/"
        },
        "id": "udcrGsCtS-3F",
        "outputId": "7af7b149-1c5e-4876-f10b-06b6aa59b598"
      },
      "execution_count": 31,
      "outputs": [
        {
          "output_type": "stream",
          "name": "stdout",
          "text": [
            "ReLU Forward:\n",
            " [[0. 2. 0.]\n",
            " [4. 0. 6.]]\n",
            "ReLU Backward:\n",
            " [[0. 1. 0.]\n",
            " [1. 0. 1.]]\n"
          ]
        }
      ]
    },
    {
      "cell_type": "markdown",
      "source": [
        "### Часть 3, Sigmoid - функция активации нейронной сети\n"
      ],
      "metadata": {
        "id": "wI3xlSHqHJ8_"
      }
    },
    {
      "cell_type": "code",
      "source": [
        "class Sigmoid:\n",
        "    def __init__(self):\n",
        "        self.Y = None  # Будем сохранять выход для backward\n",
        "\n",
        "    def forward(self, X: np.ndarray) -> np.ndarray:\n",
        "        \"\"\"\n",
        "        Прямой проход (forward): применяет сигмоиду к X.\n",
        "        \"\"\"\n",
        "        self.Y = 1 / (1 + np.exp(-X))  # Формула сигмоиды\n",
        "        return self.Y  # Возвращает преобразованные значения\n",
        "\n",
        "    def backward(self, dLdy: np.ndarray) -> np.ndarray:\n",
        "        \"\"\"\n",
        "        Обратное распространение (backward):\n",
        "        1. Вычисляет градиент dLdx через производную сигмоиды.\n",
        "        2. Возвращает dLdx.\n",
        "        \"\"\"\n",
        "        dLdx = dLdy * self.Y * (1 - self.Y)  # Производная сигмоиды\n",
        "        return dLdx"
      ],
      "metadata": {
        "id": "rNDhZ8e_UN2F"
      },
      "execution_count": 32,
      "outputs": []
    },
    {
      "cell_type": "code",
      "source": [
        "# Создаем экземпляр сигмоиды\n",
        "sigmoid = Sigmoid()\n",
        "\n",
        "# Входные данные\n",
        "X = np.array([[-1.0, 2.0, -3.0], [4.0, -5.0, 6.0]])\n",
        "\n",
        "# Прямой проход\n",
        "Y = sigmoid.forward(X)\n",
        "print(\"Sigmoid Forward:\\n\", Y)\n",
        "\n",
        "# Градиенты от следующего слоя (единичная матрица)\n",
        "dLdy = np.ones_like(X)\n",
        "\n",
        "# Обратное распространение ошибки\n",
        "dLdx = sigmoid.backward(dLdy)\n",
        "print(\"Sigmoid Backward:\\n\", dLdx)"
      ],
      "metadata": {
        "id": "kXATpUeUHmwo",
        "colab": {
          "base_uri": "https://localhost:8080/"
        },
        "outputId": "61cf8a4d-5227-4a38-c32d-3de155c63fcf"
      },
      "execution_count": 33,
      "outputs": [
        {
          "output_type": "stream",
          "name": "stdout",
          "text": [
            "Sigmoid Forward:\n",
            " [[0.26894142 0.88079708 0.04742587]\n",
            " [0.98201379 0.00669285 0.99752738]]\n",
            "Sigmoid Backward:\n",
            " [[0.19661193 0.10499359 0.04517666]\n",
            " [0.01766271 0.00664806 0.00246651]]\n"
          ]
        }
      ]
    },
    {
      "cell_type": "markdown",
      "source": [
        "### Часть 4, Функция потерь"
      ],
      "metadata": {
        "id": "kELDDVTUHcNW"
      }
    },
    {
      "cell_type": "code",
      "source": [
        "class NLLLoss: # (Negative Log-Likelihood Loss)\n",
        "    def __init__(self):\n",
        "        '''\n",
        "        Применяет Softmax к входу и вычисляет отрицательное логарифмическое правдоподобие (NLL).\n",
        "        '''\n",
        "        self.softmax_output = None  # Будем хранить softmax(X)\n",
        "        self.y = None  # Будем хранить истинные метки\n",
        "\n",
        "    def forward(self, X: np.ndarray, y: np.ndarray) -> float:\n",
        "        \"\"\"\n",
        "        Прямой проход (forward):\n",
        "        - X: (N, C) – входные логиты, где N – число объектов, C – классы.\n",
        "        - y: (N,) – истинные метки классов.\n",
        "\n",
        "        Возвращает **скалярное значение ошибки (среднее по батчу)**.\n",
        "        \"\"\"\n",
        "        # Применяем softmax к X\n",
        "        exp_X = np.exp(X - np.max(X, axis=1, keepdims=True))  # Вычитаем max для числовой стабильности\n",
        "        self.softmax_output = exp_X / np.sum(exp_X, axis=1, keepdims=True)  # Softmax\n",
        "        self.y = y  # Сохраняем метки\n",
        "\n",
        "        # Вычисляем NLL Loss: -log(softmax[class])\n",
        "        N = X.shape[0]  # Число объектов\n",
        "        loss = -np.mean(np.log(self.softmax_output[np.arange(N), y]))  # Среднее по батчу\n",
        "        return loss\n",
        "\n",
        "    def backward(self) -> np.ndarray:\n",
        "        \"\"\"\n",
        "        Обратное распространение (backward):\n",
        "        Вычисляет dL/dX (градиент ошибки по входу).\n",
        "        \"\"\"\n",
        "        N = self.softmax_output.shape[0]  # Число объектов\n",
        "        dLdx = self.softmax_output.copy()  # Копируем softmax\n",
        "        dLdx[np.arange(N), self.y] -= 1  # Вычитаем 1 у правильных классов\n",
        "        dLdx /= N  # Усредняем по батчу\n",
        "\n",
        "        return dLdx  # Градиент ошибки по X"
      ],
      "metadata": {
        "id": "sjT4ZTnqHxSa"
      },
      "execution_count": 34,
      "outputs": []
    },
    {
      "cell_type": "code",
      "source": [
        "# Тест\n",
        "# Создаем экземпляр NLLLoss\n",
        "loss_fn = NLLLoss()\n",
        "\n",
        "# Входные логиты (N, C) → 3 объекта, 4 класса\n",
        "X = np.array([[2.0, 1.0, 0.1, -0.5],\n",
        "              [0.2, 2.5, -1.2, 0.3],\n",
        "              [-1.0, 0.8, 3.0, -0.7]])\n",
        "\n",
        "# Истинные классы (0, 1, 2)\n",
        "y = np.array([0, 1, 2])\n",
        "\n",
        "# Вычисляем loss\n",
        "loss_value = loss_fn.forward(X, y)\n",
        "print(\"NLLLoss Forward (Loss):\", loss_value)\n",
        "\n",
        "# Вычисляем градиенты\n",
        "dLdx = loss_fn.backward()\n",
        "print(\"\\nNLLLoss Backward (Gradients):\\n\", dLdx)"
      ],
      "metadata": {
        "colab": {
          "base_uri": "https://localhost:8080/"
        },
        "id": "q5qDWXLZVNLW",
        "outputId": "f4cd5a04-04d6-43c3-8539-7d855dceeba1"
      },
      "execution_count": 35,
      "outputs": [
        {
          "output_type": "stream",
          "name": "stdout",
          "text": [
            "NLLLoss Forward (Loss): 0.2748386987085118\n",
            "\n",
            "NLLLoss Backward (Gradients):\n",
            " [[-0.12493918  0.07666392  0.03116923  0.01710603]\n",
            " [ 0.02704322 -0.06359937  0.00666877  0.02988738]\n",
            " [ 0.0052912   0.03200991 -0.04444349  0.00714238]]\n"
          ]
        }
      ]
    },
    {
      "cell_type": "markdown",
      "metadata": {
        "id": "d3eMqBrnA68u"
      },
      "source": [
        "### Часть 5, Численный градиент"
      ]
    },
    {
      "cell_type": "markdown",
      "metadata": {
        "id": "F6gL63ZVA68u"
      },
      "source": [
        "Релизуйте функцию проверки численного градиента. Для этого для каждой переменной, по которой считается градиент, надо вычислить численный градиент: $f'(x) \\approx \\frac{f(x+\\epsilon)-f(x-\\epsilon)}{2\\epsilon}$. Функция должна возвращать максимальное абсолютное отклонение аналитического градиента от численного. В качестве $\\epsilon$ рекомендуется взять $10^{-6}$. При правильной реализации максимальное отличие будет иметь порядок $10^{-8}-10^{-6}$."
      ]
    },
    {
      "cell_type": "code",
      "execution_count": 36,
      "metadata": {
        "id": "4NMWZB18A68u"
      },
      "outputs": [],
      "source": [
        "eps = 10**(-6)  # Маленькое значение для численного градиента\n",
        "\n",
        "def check_gradient(func, X):\n",
        "    '''\n",
        "    Проверяет корректность вычисления градиента.\n",
        "\n",
        "    func: функция, градиент которой мы проверяем. Должна возвращать (значение функции, аналитический градиент).\n",
        "    X: np.array размера (n x m), по которому вычисляем градиент.\n",
        "\n",
        "    Возвращает: максимальное абсолютное отклонение аналитического градиента от численного.\n",
        "    '''\n",
        "    X = X.astype(float)  # Делаем копию, чтобы избежать ошибок с типами данных\n",
        "    numerical_grad = np.zeros_like(X)  # Численный градиент\n",
        "    f_x, analytical_grad = func(X)  # Вычисляем значение функции и аналитический градиент\n",
        "\n",
        "    # Проходим по каждому элементу X\n",
        "    for i in range(X.shape[0]):\n",
        "        for j in range(X.shape[1]):\n",
        "            X_plus = X.copy()\n",
        "            X_minus = X.copy()\n",
        "\n",
        "            X_plus[i, j] += eps  # Увеличиваем x_ij на epsilon\n",
        "            X_minus[i, j] -= eps  # Уменьшаем x_ij на epsilon\n",
        "\n",
        "            f_x_plus, _ = func(X_plus)  # Вычисляем f(X + eps)\n",
        "            f_x_minus, _ = func(X_minus)  # Вычисляем f(X - eps)\n",
        "\n",
        "            # Численный градиент\n",
        "            numerical_grad[i, j] = (f_x_plus - f_x_minus) / (2 * eps)\n",
        "\n",
        "    # Максимальное отклонение между численным и аналитическим градиентами\n",
        "    max_deviation = np.max(np.abs(numerical_grad - analytical_grad))\n",
        "\n",
        "    return max_deviation"
      ]
    },
    {
      "cell_type": "code",
      "source": [
        "# Проверка численного градиента для ReLU\n",
        "# Используем ранее реализованный класс ReLU\n",
        "class ReLU:\n",
        "    def __init__(self):\n",
        "        self.X = None\n",
        "\n",
        "    def forward(self, X):\n",
        "        self.X = X\n",
        "        return np.maximum(0, X)\n",
        "\n",
        "    def backward(self, dLdy):\n",
        "        return dLdy * (self.X > 0)  # Производная ReLU\n",
        "\n",
        "# Функция-обертка для численной проверки градиента\n",
        "def relu_test_function(X):\n",
        "    relu = ReLU()\n",
        "    Y = relu.forward(X)  # Прямой проход\n",
        "    dLdy = np.ones_like(Y)  # Симулируем градиенты от следующего слоя\n",
        "    dLdx = relu.backward(dLdy)  # Обратное распространение\n",
        "    return np.sum(Y), dLdx  # Значение функции и аналитический градиент\n",
        "\n",
        "# Проверяем градиент\n",
        "X_test = np.random.randn(3, 3)  # Случайные данные\n",
        "error = check_gradient(relu_test_function, X_test)\n",
        "print(\"Максимальное отклонение градиента ReLU:\", error)"
      ],
      "metadata": {
        "colab": {
          "base_uri": "https://localhost:8080/"
        },
        "id": "wf8qom4wVy7S",
        "outputId": "b15239c6-dcac-40da-a37d-a95decc370b7"
      },
      "execution_count": 37,
      "outputs": [
        {
          "output_type": "stream",
          "name": "stdout",
          "text": [
            "Максимальное отклонение градиента ReLU: 8.22666379463044e-11\n"
          ]
        }
      ]
    },
    {
      "cell_type": "code",
      "source": [
        "# Проверка численного градиента для Sigmoid\n",
        "# Используем ранее реализованный класс Sigmoid\n",
        "class Sigmoid:\n",
        "    def __init__(self):\n",
        "        self.Y = None\n",
        "\n",
        "    def forward(self, X):\n",
        "        self.Y = 1 / (1 + np.exp(-X))  # Сигмоид\n",
        "        return self.Y\n",
        "\n",
        "    def backward(self, dLdy):\n",
        "        return dLdy * self.Y * (1 - self.Y)  # Производная сигмоиды\n",
        "\n",
        "\n",
        "# Функция-обертка для численной проверки градиента\n",
        "def sigmoid_test_function(X):\n",
        "    sigmoid = Sigmoid()\n",
        "    Y = sigmoid.forward(X)  # Прямой проход\n",
        "    dLdy = np.ones_like(Y)\n",
        "    dLdx = sigmoid.backward(dLdy)  # Обратное распространение\n",
        "    return np.sum(Y), dLdx  # Значение функции и аналитический градиент\n",
        "\n",
        "# Проверяем градиент\n",
        "X_test = np.random.randn(3, 3)  # Случайные данные\n",
        "error = check_gradient(sigmoid_test_function, X_test)\n",
        "print(\"Максимальное отклонение градиента Sigmoid:\", error)"
      ],
      "metadata": {
        "colab": {
          "base_uri": "https://localhost:8080/"
        },
        "id": "WyBqanenWwfL",
        "outputId": "b5197806-dcab-4db4-93f6-52c707f84708"
      },
      "execution_count": 38,
      "outputs": [
        {
          "output_type": "stream",
          "name": "stdout",
          "text": [
            "Максимальное отклонение градиента Sigmoid: 1.319365727781019e-10\n"
          ]
        }
      ]
    },
    {
      "cell_type": "code",
      "source": [
        "# Проверка численного градиента для NLLLoss\n",
        "# Используем ранее реализованный класс NLLLoss\n",
        "class NLLLoss:\n",
        "    def __init__(self):\n",
        "        self.softmax_output = None\n",
        "        self.y = None\n",
        "\n",
        "    def forward(self, X, y):\n",
        "        exp_X = np.exp(X - np.max(X, axis=1, keepdims=True))\n",
        "        self.softmax_output = exp_X / np.sum(exp_X, axis=1, keepdims=True)\n",
        "        self.y = y\n",
        "        return -np.mean(np.log(self.softmax_output[np.arange(X.shape[0]), y]))\n",
        "\n",
        "    def backward(self):\n",
        "        N = self.softmax_output.shape[0]\n",
        "        dLdx = self.softmax_output.copy()\n",
        "        dLdx[np.arange(N), self.y] -= 1\n",
        "        dLdx /= N\n",
        "        return dLdx\n",
        "\n",
        "\n",
        "# Функция-обертка для численной проверки градиента\n",
        "def nllloss_test_function(X):\n",
        "    y_true = np.array([0, 1, 2])  # Пример истинных меток\n",
        "    loss_fn = NLLLoss()\n",
        "    loss = loss_fn.forward(X, y_true)  # Вычисляем loss\n",
        "    dLdx = loss_fn.backward()  # Вычисляем аналитический градиент\n",
        "    return loss, dLdx\n",
        "\n",
        "# Проверяем градиент\n",
        "X_test = np.random.randn(3, 3)  # 3 объекта, 3 класса (логиты)\n",
        "error = check_gradient(nllloss_test_function, X_test)\n",
        "print(\"Максимальное отклонение градиента NLLLoss:\", error)"
      ],
      "metadata": {
        "colab": {
          "base_uri": "https://localhost:8080/"
        },
        "id": "Pjg3OxFWW4kJ",
        "outputId": "92860133-a50c-4759-a599-a95bb1cfa812"
      },
      "execution_count": 76,
      "outputs": [
        {
          "output_type": "stream",
          "name": "stdout",
          "text": [
            "Максимальное отклонение градиента NLLLoss: 1.600208854313223e-10\n"
          ]
        }
      ]
    },
    {
      "cell_type": "markdown",
      "metadata": {
        "id": "k3izDY1lA681"
      },
      "source": [
        "### Часть 6, нейронная сеть"
      ]
    },
    {
      "cell_type": "markdown",
      "metadata": {
        "id": "tOYn1yHRA681"
      },
      "source": [
        "Теперь, когда у нас есть \"кирпичики\", мы можем написать класс, который будет собирать всю сеть вместе"
      ]
    },
    {
      "cell_type": "code",
      "execution_count": 77,
      "metadata": {
        "id": "F5Wam9ZTA681"
      },
      "outputs": [],
      "source": [
        "class NeuralNetwork:\n",
        "    def __init__(self, input_size, hidden_size, output_size):\n",
        "        \"\"\"\n",
        "        Создает нейросеть:\n",
        "        - Один скрытый слой (Linear + ReLU)\n",
        "        - Выходной слой (Linear)\n",
        "        - Функция потерь: NLLLoss\n",
        "        \"\"\"\n",
        "        self.fc1 = Linear(input_size, hidden_size)\n",
        "        self.relu = ReLU()\n",
        "        self.fc2 = Linear(hidden_size, output_size)\n",
        "        self.loss_fn = NLLLoss()\n",
        "\n",
        "    def forward(self, X, y=None):\n",
        "        \"\"\"\n",
        "        Прямой проход через сеть.\n",
        "        Возвращает:\n",
        "        - log_probs (если y=None)\n",
        "        - loss (если y передан)\n",
        "        \"\"\"\n",
        "        self.hidden_output = self.fc1.forward(X)\n",
        "        self.activated_hidden = self.relu.forward(self.hidden_output)\n",
        "        logits = self.fc2.forward(self.activated_hidden)\n",
        "\n",
        "        # Применяем log_softmax обязательно!\n",
        "        self.log_probs = log_softmax(logits)\n",
        "\n",
        "        if y is None:\n",
        "            return self.log_probs\n",
        "        else:\n",
        "            return self.loss_fn.forward(self.log_probs, y)\n",
        "\n",
        "    def backward(self):\n",
        "        \"\"\"\n",
        "        Обратное распространение ошибки.\n",
        "        \"\"\"\n",
        "        dLdy = self.loss_fn.backward()               # Градиенты от функции потерь ∂L/∂log_probs → (N, C)\n",
        "        dLdx2 = self.fc2.backward(dLdy)              # Градиент по скрытому слою ∂L/∂a2\n",
        "        dLdx1 = self.relu.backward(dLdx2)            # Градиент через ReLU ∂L/∂h1"
      ]
    },
    {
      "cell_type": "markdown",
      "source": [
        "#### Часть 7, Оптимизатор\n",
        "\n",
        "В данном пунте необходимо реализовать оптимизатор, похожий по функционалу на тот, которые используется во фреймворке pytorch. Он состоит из трех методов (включая __init__) __init__ инициализирует параметры, step - обновляет веса, zero_grad - обнуляет градиенты."
      ],
      "metadata": {
        "id": "So2-ij1TIKu4"
      }
    },
    {
      "cell_type": "code",
      "source": [
        "from typing import List\n",
        "\n",
        "class Optimizer:\n",
        "    def __init__(self, parameters: List[\"Parameters\"], lr: float):\n",
        "        \"\"\"\n",
        "        Инициализирует оптимизатор.\n",
        "        parameters: список параметров (весов) модели.\n",
        "        lr: скорость обучения (learning rate).\n",
        "        \"\"\"\n",
        "        self.parameters = parameters  # Список параметров модели\n",
        "        self.lr = lr  # Скорость обучения\n",
        "\n",
        "    def step(self) -> None:\n",
        "        \"\"\"\n",
        "        Обновляет параметры с использованием градиентного спуска:\n",
        "        W = W - lr * grad\n",
        "        \"\"\"\n",
        "        for param in self.parameters:\n",
        "            param.weights -= self.lr * param.grad  # Обновление весов\n",
        "\n",
        "    def zero_grad(self) -> None:\n",
        "        \"\"\"\n",
        "        Обнуляет градиенты перед следующим шагом обучения.\n",
        "        \"\"\"\n",
        "        for param in self.parameters:\n",
        "            param.grad.fill(0)  # Обнуляем градиент"
      ],
      "metadata": {
        "id": "v9iVJgy0IJ2R"
      },
      "execution_count": 78,
      "outputs": []
    },
    {
      "cell_type": "markdown",
      "metadata": {
        "id": "cbOqs9hEA682"
      },
      "source": [
        "### Часть 8, обучение на простых данных"
      ]
    },
    {
      "cell_type": "markdown",
      "metadata": {
        "id": "VLVj0ntMA682"
      },
      "source": [
        "Обучите архитектуру вида 4 -> 100 -> 100 -> 3:\n",
        "* Linear(4, 100)\n",
        "* Relu()\n",
        "* Linear(100, 100)\n",
        "* Relu()\n",
        "* Linear(100, 3)\n",
        "\n",
        "* В качестве функции потерь используйте NLLLoss.\n",
        "\n",
        "* Для обноваления весов используйте написанный вами оптимизатор.\n",
        "* Нарисуйте график сходимости (величина NLL после каждого обновления).\n",
        "\n"
      ]
    },
    {
      "cell_type": "code",
      "source": [
        "import pandas as pd\n",
        "from sklearn.datasets import load_iris\n",
        "from sklearn.model_selection import train_test_split\n",
        "from sklearn.preprocessing import StandardScaler"
      ],
      "metadata": {
        "id": "YDhLXycMNWCK"
      },
      "execution_count": 44,
      "outputs": []
    },
    {
      "cell_type": "code",
      "source": [
        "# Загружаем датасет\n",
        "iris = load_iris(as_frame=True)\n",
        "\n",
        "# Создаем DataFrame\n",
        "df = pd.DataFrame(iris[\"data\"], columns=iris[\"feature_names\"])\n",
        "df[\"target\"] = iris[\"target\"]  # Добавляем столбец с метками классов\n",
        "\n",
        "# Выводим таблицу\n",
        "print(df.head(10))  # Вывод первых 5 строк"
      ],
      "metadata": {
        "colab": {
          "base_uri": "https://localhost:8080/"
        },
        "id": "fe0S4QqqY1i6",
        "outputId": "4447d10b-5d5f-4af9-e3f9-a4046b8355dd"
      },
      "execution_count": 79,
      "outputs": [
        {
          "output_type": "stream",
          "name": "stdout",
          "text": [
            "   sepal length (cm)  sepal width (cm)  petal length (cm)  petal width (cm)  \\\n",
            "0                5.1               3.5                1.4               0.2   \n",
            "1                4.9               3.0                1.4               0.2   \n",
            "2                4.7               3.2                1.3               0.2   \n",
            "3                4.6               3.1                1.5               0.2   \n",
            "4                5.0               3.6                1.4               0.2   \n",
            "5                5.4               3.9                1.7               0.4   \n",
            "6                4.6               3.4                1.4               0.3   \n",
            "7                5.0               3.4                1.5               0.2   \n",
            "8                4.4               2.9                1.4               0.2   \n",
            "9                4.9               3.1                1.5               0.1   \n",
            "\n",
            "   target  \n",
            "0       0  \n",
            "1       0  \n",
            "2       0  \n",
            "3       0  \n",
            "4       0  \n",
            "5       0  \n",
            "6       0  \n",
            "7       0  \n",
            "8       0  \n",
            "9       0  \n"
          ]
        }
      ]
    },
    {
      "cell_type": "code",
      "source": [
        "# Предобработка\n",
        "X = iris[\"data\"].values\n",
        "y = iris[\"target\"].values\n",
        "\n",
        "scaler = StandardScaler()\n",
        "X = scaler.fit_transform(X)"
      ],
      "metadata": {
        "id": "Oq1nfIOlaizd"
      },
      "execution_count": 80,
      "outputs": []
    },
    {
      "cell_type": "code",
      "source": [
        "# Сначала стратифицированное разбиение (с random_state)\n",
        "X_train, X_test, y_train, y_test = train_test_split(\n",
        "    X, y,\n",
        "    stratify=y,\n",
        "    test_size=0.2,\n",
        "    random_state=42\n",
        ")"
      ],
      "metadata": {
        "id": "oyHcWVFYN0po"
      },
      "execution_count": 81,
      "outputs": []
    },
    {
      "cell_type": "code",
      "source": [
        "def log_softmax(x):\n",
        "    x_shifted = x - np.max(x, axis=1, keepdims=True)\n",
        "    exp_x = np.exp(x_shifted)\n",
        "    softmax = exp_x / np.sum(exp_x, axis=1, keepdims=True)\n",
        "    return np.log(softmax + 1e-9)"
      ],
      "metadata": {
        "id": "AQ7Fk4GgQwJU"
      },
      "execution_count": 89,
      "outputs": []
    },
    {
      "cell_type": "code",
      "source": [
        "class DeepNeuralNetwork:\n",
        "    def __init__(self):\n",
        "        self.fc1 = Linear(4, 100)\n",
        "        self.relu1 = ReLU()\n",
        "        self.fc2 = Linear(100, 100)\n",
        "        self.relu2 = ReLU()\n",
        "        self.fc3 = Linear(100, 3)\n",
        "        self.loss_fn = NLLLoss()\n",
        "\n",
        "    def forward(self, X, y=None):\n",
        "        self.h1 = self.relu1.forward(self.fc1.forward(X))\n",
        "        self.h2 = self.relu2.forward(self.fc2.forward(self.h1))\n",
        "        logits = self.fc3.forward(self.h2)\n",
        "        self.out = log_softmax(logits)\n",
        "        if y is None:\n",
        "            return self.out\n",
        "        else:\n",
        "            return self.loss_fn.forward(self.out, y)\n",
        "\n",
        "    def backward(self):\n",
        "        dLdy = self.loss_fn.backward()\n",
        "        print(\"dLdy max:\", np.max(dLdy))  # Отладка: должен быть > 0\n",
        "\n",
        "        dLdx3 = self.fc3.backward(dLdy)\n",
        "        print(\"fc3.W.grad max:\", np.max(self.fc3.W.grad))\n",
        "\n",
        "        dLdx2 = self.relu2.backward(dLdx3)\n",
        "        dLdx1 = self.fc2.backward(dLdx2)\n",
        "        print(\"fc2.W.grad max:\", np.max(self.fc2.W.grad))\n",
        "\n",
        "        dLdx0 = self.relu1.backward(dLdx1)\n",
        "        _ = self.fc1.backward(dLdx0)\n",
        "        print(\"fc1.W.grad max:\", np.max(self.fc1.W.grad))\n",
        "\n",
        "    def parameters(self) -> List[Parameters]:\n",
        "        params = []\n",
        "        for layer in [self.fc1, self.fc2, self.fc3]:\n",
        "            if isinstance(layer, Linear):\n",
        "                params.append(layer.W)\n",
        "                params.append(layer.b)\n",
        "        return params"
      ],
      "metadata": {
        "id": "e75aCqbSOD_w"
      },
      "execution_count": 97,
      "outputs": []
    },
    {
      "cell_type": "code",
      "source": [
        "# Инициализация модели, её параметров и оптимизатора\n",
        "input_size = X_train.shape[1]\n",
        "hidden_size = 100\n",
        "output_size = np.unique(y_train).shape[0]\n",
        "\n",
        "model = DeepNeuralNetwork()\n",
        "criterion = NLLLoss()\n",
        "optimizer = Optimizer(model.parameters(), lr=0.1)"
      ],
      "metadata": {
        "id": "GDTQnPEsOCm0"
      },
      "execution_count": 102,
      "outputs": []
    },
    {
      "cell_type": "code",
      "source": [
        "num_epochs = 2500\n",
        "batch_size = 64\n",
        "\n",
        "loss_history = []\n",
        "num_samples = X_train.shape[0]\n",
        "\n",
        "for epoch in range(num_epochs):\n",
        "    indices = np.random.permutation(num_samples)\n",
        "    epoch_loss = 0\n",
        "    num_batches = 0\n",
        "\n",
        "    for start in range(0, num_samples, batch_size):\n",
        "        optimizer.zero_grad()  # Обнуляем градиенты всех параметров\n",
        "\n",
        "        batch_indices = indices[start:start + batch_size]\n",
        "        X_batch = X_train[batch_indices]\n",
        "        y_batch = y_train[batch_indices]\n",
        "\n",
        "        # Прямой проход\n",
        "        logits = model.forward(X_batch)\n",
        "\n",
        "        # Вычисление функции потерь\n",
        "        loss = criterion.forward(logits, y_batch)\n",
        "        epoch_loss += loss\n",
        "        num_batches += 1\n",
        "\n",
        "        # Обратное распространение fcX возвращает градиент по входу, который идёт дальше по цепочке\n",
        "        dLdz = criterion.backward()            # ∂L/∂z (logits)\n",
        "        dh2 = model.fc3.backward(dLdz)         # ∂L/∂h2\n",
        "        da2 = model.relu2.backward(dh2)        # ∂L/∂a2\n",
        "        dh1 = model.fc2.backward(da2)          # ∂L/∂h1\n",
        "        da1 = model.relu1.backward(dh1)        # ∂L/∂a1\n",
        "        _    = model.fc1.backward(da1)         # ∂L/∂x\n",
        "\n",
        "        # Шаг оптимизатора\n",
        "        optimizer.step()\n",
        "\n",
        "    # Логгирование\n",
        "    if epoch % 10 == 0:\n",
        "        avg_epoch_loss = epoch_loss / num_batches\n",
        "        loss_history.append(avg_epoch_loss)\n",
        "\n",
        "    if epoch % 100 == 0:\n",
        "        print(f\"Epoch {epoch}, Avg Loss: {avg_epoch_loss:.4f}\")"
      ],
      "metadata": {
        "colab": {
          "base_uri": "https://localhost:8080/"
        },
        "id": "JUH1zXu4OOhk",
        "outputId": "3957295a-b342-4b42-eb81-ca88b5476251"
      },
      "execution_count": 103,
      "outputs": [
        {
          "output_type": "stream",
          "name": "stdout",
          "text": [
            "Epoch 0, Avg Loss: 1.1496\n",
            "Epoch 100, Avg Loss: 1.0111\n",
            "Epoch 200, Avg Loss: 0.8891\n",
            "Epoch 300, Avg Loss: 0.7723\n",
            "Epoch 400, Avg Loss: 0.6752\n",
            "Epoch 500, Avg Loss: 0.5890\n",
            "Epoch 600, Avg Loss: 0.5195\n",
            "Epoch 700, Avg Loss: 0.4667\n",
            "Epoch 800, Avg Loss: 0.4206\n",
            "Epoch 900, Avg Loss: 0.3914\n",
            "Epoch 1000, Avg Loss: 0.3543\n",
            "Epoch 1100, Avg Loss: 0.3330\n",
            "Epoch 1200, Avg Loss: 0.3082\n",
            "Epoch 1300, Avg Loss: 0.2932\n",
            "Epoch 1400, Avg Loss: 0.2721\n",
            "Epoch 1500, Avg Loss: 0.2549\n",
            "Epoch 1600, Avg Loss: 0.2433\n",
            "Epoch 1700, Avg Loss: 0.2335\n",
            "Epoch 1800, Avg Loss: 0.2192\n",
            "Epoch 1900, Avg Loss: 0.2089\n",
            "Epoch 2000, Avg Loss: 0.2018\n",
            "Epoch 2100, Avg Loss: 0.1918\n",
            "Epoch 2200, Avg Loss: 0.1794\n",
            "Epoch 2300, Avg Loss: 0.1729\n",
            "Epoch 2400, Avg Loss: 0.1663\n"
          ]
        }
      ]
    },
    {
      "cell_type": "code",
      "source": [
        "plt.figure(figsize=(8, 5))\n",
        "plt.plot(range(0, num_epochs, 10), loss_history, label='Training loss')\n",
        "plt.xlabel(\"Epoch\")\n",
        "plt.ylabel(\"Loss\")\n",
        "plt.title(\"График функции потерь\")\n",
        "plt.grid(True)\n",
        "plt.legend()\n",
        "plt.tight_layout()\n",
        "plt.show()"
      ],
      "metadata": {
        "colab": {
          "base_uri": "https://localhost:8080/",
          "height": 507
        },
        "id": "BI3rPwd8UIt-",
        "outputId": "b2188d9a-e969-45e4-ab01-2e894792e9f1"
      },
      "execution_count": 104,
      "outputs": [
        {
          "output_type": "display_data",
          "data": {
            "text/plain": [
              "<Figure size 800x500 with 1 Axes>"
            ],
            "image/png": "[encoded data removed]"
          },
          "metadata": {}
        }
      ]
    },
    {
      "cell_type": "code",
      "source": [
        "iris[\"target\"]"
      ],
      "metadata": {
        "colab": {
          "base_uri": "https://localhost:8080/",
          "height": 458
        },
        "id": "AVI7bN7mOhnJ",
        "outputId": "9c59e8e5-56f0-45b3-811b-037db796f859"
      },
      "execution_count": 105,
      "outputs": [
        {
          "output_type": "execute_result",
          "data": {
            "text/plain": [
              "0      0\n",
              "1      0\n",
              "2      0\n",
              "3      0\n",
              "4      0\n",
              "      ..\n",
              "145    2\n",
              "146    2\n",
              "147    2\n",
              "148    2\n",
              "149    2\n",
              "Name: target, Length: 150, dtype: int64"
            ],
            "text/html": [
              "<div>\n",
              "<style scoped>\n",
              "    .dataframe tbody tr th:only-of-type {\n",
              "        vertical-align: middle;\n",
              "    }\n",
              "\n",
              "    .dataframe tbody tr th {\n",
              "        vertical-align: top;\n",
              "    }\n",
              "\n",
              "    .dataframe thead th {\n",
              "        text-align: right;\n",
              "    }\n",
              "</style>\n",
              "<table border=\"1\" class=\"dataframe\">\n",
              "  <thead>\n",
              "    <tr style=\"text-align: right;\">\n",
              "      <th></th>\n",
              "      <th>target</th>\n",
              "    </tr>\n",
              "  </thead>\n",
              "  <tbody>\n",
              "    <tr>\n",
              "      <th>0</th>\n",
              "      <td>0</td>\n",
              "    </tr>\n",
              "    <tr>\n",
              "      <th>1</th>\n",
              "      <td>0</td>\n",
              "    </tr>\n",
              "    <tr>\n",
              "      <th>2</th>\n",
              "      <td>0</td>\n",
              "    </tr>\n",
              "    <tr>\n",
              "      <th>3</th>\n",
              "      <td>0</td>\n",
              "    </tr>\n",
              "    <tr>\n",
              "      <th>4</th>\n",
              "      <td>0</td>\n",
              "    </tr>\n",
              "    <tr>\n",
              "      <th>...</th>\n",
              "      <td>...</td>\n",
              "    </tr>\n",
              "    <tr>\n",
              "      <th>145</th>\n",
              "      <td>2</td>\n",
              "    </tr>\n",
              "    <tr>\n",
              "      <th>146</th>\n",
              "      <td>2</td>\n",
              "    </tr>\n",
              "    <tr>\n",
              "      <th>147</th>\n",
              "      <td>2</td>\n",
              "    </tr>\n",
              "    <tr>\n",
              "      <th>148</th>\n",
              "      <td>2</td>\n",
              "    </tr>\n",
              "    <tr>\n",
              "      <th>149</th>\n",
              "      <td>2</td>\n",
              "    </tr>\n",
              "  </tbody>\n",
              "</table>\n",
              "<p>150 rows × 1 columns</p>\n",
              "</div><br><label><b>dtype:</b> int64</label>"
            ]
          },
          "metadata": {},
          "execution_count": 105
        }
      ]
    }
  ],
  "metadata": {
    "kernelspec": {
      "display_name": "Python 3",
      "name": "python3"
    },
    "language_info": {
      "codemirror_mode": {
        "name": "ipython",
        "version": 3
      },
      "file_extension": ".py",
      "mimetype": "text/x-python",
      "name": "python",
      "nbconvert_exporter": "python",
      "pygments_lexer": "ipython3",
      "version": "3.9.7"
    },
    "colab": {
      "provenance": []
    }
  },
  "nbformat": 4,
  "nbformat_minor": 0
}